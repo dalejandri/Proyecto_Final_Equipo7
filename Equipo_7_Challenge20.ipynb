{
  "nbformat": 4,
  "nbformat_minor": 0,
  "metadata": {
    "colab": {
      "name": "Equipo_7_Challenge20.ipynb",
      "provenance": [],
      "collapsed_sections": []
    },
    "kernelspec": {
      "name": "python3",
      "display_name": "Python 3"
    },
    "nteract": {
      "version": "0.12.3"
    },
    "language_info": {
      "name": "python"
    }
  },
  "cells": [
    {
      "cell_type": "code",
      "metadata": {
        "id": "V58rxea0HqSa",
        "colab": {
          "base_uri": "https://localhost:8080/"
        },
        "outputId": "50db290b-be17-4257-9429-f77d601f2e4e"
      },
      "source": [
        "import os\n",
        "# Find the latest version of spark 3.0 from http://www.apache.org/dist/spark/ and enter as the spark version\n",
        "# For example:\n",
        "# spark_version = 'spark-3.0.3'\n",
        "spark_version = 'spark-3.0.3'\n",
        "os.environ['SPARK_VERSION']=spark_version\n",
        "\n",
        "# Install Spark and Java\n",
        "!apt-get update\n",
        "!apt-get install openjdk-11-jdk-headless -qq > /dev/null\n",
        "!wget -q http://www.apache.org/dist/spark/$SPARK_VERSION/$SPARK_VERSION-bin-hadoop2.7.tgz\n",
        "!tar xf $SPARK_VERSION-bin-hadoop2.7.tgz\n",
        "!pip install -q findspark\n",
        "\n",
        "# Set Environment Variables\n",
        "import os\n",
        "os.environ[\"JAVA_HOME\"] = \"/usr/lib/jvm/java-11-openjdk-amd64\"\n",
        "os.environ[\"SPARK_HOME\"] = f\"/content/{spark_version}-bin-hadoop2.7\"\n",
        "\n",
        "# Start a SparkSession\n",
        "import findspark\n",
        "findspark.init()"
      ],
      "execution_count": null,
      "outputs": [
        {
          "output_type": "stream",
          "name": "stdout",
          "text": [
            "Get:1 https://cloud.r-project.org/bin/linux/ubuntu bionic-cran40/ InRelease [3,626 B]\n",
            "Ign:2 https://developer.download.nvidia.com/compute/cuda/repos/ubuntu1804/x86_64  InRelease\n",
            "Get:3 http://security.ubuntu.com/ubuntu bionic-security InRelease [88.7 kB]\n",
            "Ign:4 https://developer.download.nvidia.com/compute/machine-learning/repos/ubuntu1804/x86_64  InRelease\n",
            "Get:5 https://developer.download.nvidia.com/compute/cuda/repos/ubuntu1804/x86_64  Release [696 B]\n",
            "Hit:6 https://developer.download.nvidia.com/compute/machine-learning/repos/ubuntu1804/x86_64  Release\n",
            "Hit:7 http://archive.ubuntu.com/ubuntu bionic InRelease\n",
            "Get:8 http://ppa.launchpad.net/c2d4u.team/c2d4u4.0+/ubuntu bionic InRelease [15.9 kB]\n",
            "Get:9 https://developer.download.nvidia.com/compute/cuda/repos/ubuntu1804/x86_64  Release.gpg [836 B]\n",
            "Get:10 https://cloud.r-project.org/bin/linux/ubuntu bionic-cran40/ Packages [73.0 kB]\n",
            "Get:11 http://archive.ubuntu.com/ubuntu bionic-updates InRelease [88.7 kB]\n",
            "Hit:13 http://ppa.launchpad.net/cran/libgit2/ubuntu bionic InRelease\n",
            "Get:14 http://archive.ubuntu.com/ubuntu bionic-backports InRelease [74.6 kB]\n",
            "Hit:15 http://ppa.launchpad.net/deadsnakes/ppa/ubuntu bionic InRelease\n",
            "Get:16 https://developer.download.nvidia.com/compute/cuda/repos/ubuntu1804/x86_64  Packages [808 kB]\n",
            "Hit:17 http://ppa.launchpad.net/graphics-drivers/ppa/ubuntu bionic InRelease\n",
            "Get:18 http://security.ubuntu.com/ubuntu bionic-security/restricted amd64 Packages [666 kB]\n",
            "Get:19 http://ppa.launchpad.net/c2d4u.team/c2d4u4.0+/ubuntu bionic/main Sources [1,812 kB]\n",
            "Get:20 http://archive.ubuntu.com/ubuntu bionic-updates/multiverse amd64 Packages [34.4 kB]\n",
            "Get:21 http://archive.ubuntu.com/ubuntu bionic-updates/restricted amd64 Packages [699 kB]\n",
            "Get:22 http://security.ubuntu.com/ubuntu bionic-security/main amd64 Packages [2,430 kB]\n",
            "Get:23 http://security.ubuntu.com/ubuntu bionic-security/universe amd64 Packages [1,439 kB]\n",
            "Get:24 http://security.ubuntu.com/ubuntu bionic-security/multiverse amd64 Packages [26.8 kB]\n",
            "Get:25 http://archive.ubuntu.com/ubuntu bionic-updates/universe amd64 Packages [2,219 kB]\n",
            "Get:26 http://archive.ubuntu.com/ubuntu bionic-updates/main amd64 Packages [2,867 kB]\n",
            "Get:27 http://ppa.launchpad.net/c2d4u.team/c2d4u4.0+/ubuntu bionic/main amd64 Packages [928 kB]\n",
            "Fetched 14.3 MB in 6s (2,320 kB/s)\n",
            "Reading package lists... Done\n"
          ]
        }
      ]
    },
    {
      "cell_type": "code",
      "metadata": {
        "id": "_xKwTpATHqSe",
        "colab": {
          "base_uri": "https://localhost:8080/"
        },
        "outputId": "11c2703e-39b8-40c5-9364-34b4c1d35c79"
      },
      "source": [
        "# Download the Postgres driver that will allow Spark to interact with Postgres.\n",
        "!wget https://jdbc.postgresql.org/download/postgresql-42.2.16.jar"
      ],
      "execution_count": null,
      "outputs": [
        {
          "output_type": "stream",
          "name": "stdout",
          "text": [
            "--2021-11-15 02:50:42--  https://jdbc.postgresql.org/download/postgresql-42.2.16.jar\n",
            "Resolving jdbc.postgresql.org (jdbc.postgresql.org)... 72.32.157.228, 2001:4800:3e1:1::228\n",
            "Connecting to jdbc.postgresql.org (jdbc.postgresql.org)|72.32.157.228|:443... connected.\n",
            "HTTP request sent, awaiting response... 200 OK\n",
            "Length: 1002883 (979K) [application/java-archive]\n",
            "Saving to: ‘postgresql-42.2.16.jar’\n",
            "\n",
            "postgresql-42.2.16. 100%[===================>] 979.38K  1.22MB/s    in 0.8s    \n",
            "\n",
            "2021-11-15 02:50:43 (1.22 MB/s) - ‘postgresql-42.2.16.jar’ saved [1002883/1002883]\n",
            "\n"
          ]
        }
      ]
    },
    {
      "cell_type": "code",
      "metadata": {
        "id": "MMqDAjVS0KN9"
      },
      "source": [
        "from pyspark.sql import SparkSession\n",
        "spark = SparkSession.builder.appName(\"M20-Equipo_7-Challenge\").config(\"spark.driver.extraClassPath\",\"/content/postgresql-42.2.16.jar\").getOrCreate()"
      ],
      "execution_count": null,
      "outputs": []
    },
    {
      "cell_type": "markdown",
      "metadata": {
        "id": "cyBsySGuY-9V"
      },
      "source": [
        "### Load Amazon Data into Spark DataFrame"
      ]
    },
    {
      "cell_type": "code",
      "metadata": {
        "id": "CtCmBhQJY-9Z"
      },
      "source": [
        "# Read in data from S3 Buckets\n",
        "from pyspark import SparkFiles\n",
        "url = \"https://equipo-7.s3.amazonaws.com/211114COVID19MEXICO.csv.gz\"\n",
        "spark.sparkContext.addFile(url)\n",
        "df = spark.read.csv(SparkFiles.get(\"211114COVID19MEXICO.csv.gz\"), sep=\",\", header=True)"
      ],
      "execution_count": null,
      "outputs": []
    },
    {
      "cell_type": "markdown",
      "metadata": {
        "id": "2yUSe55VY-9t"
      },
      "source": [
        "### Create DataFrames to match tables"
      ]
    },
    {
      "cell_type": "code",
      "metadata": {
        "id": "C8REmY1aY-9u",
        "colab": {
          "base_uri": "https://localhost:8080/"
        },
        "outputId": "d2de96b7-c337-4344-f3e6-ed9a40d92654"
      },
      "source": [
        "from pyspark.sql.functions import to_date\n",
        "# Read in the Review dataset as a DataFrame\n",
        "spark.sparkContext.addFile(url)\n",
        "df = spark.read.option(\"encoding\", \"UTF-8\").csv(SparkFiles.get(\"211114COVID19MEXICO.csv.gz\"), sep=\",\", header=True, inferSchema=True)\n",
        "df.show()"
      ],
      "execution_count": null,
      "outputs": [
        {
          "output_type": "stream",
          "name": "stdout",
          "text": [
            "+-------------------+-----------+------+------+----------+----+-----------+-----------+-------------+-------------+-------------+--------------+----------+--------+--------+----+------------+--------+------------------+--------+--------+----+----+--------+------------+--------+--------------+--------+-------------+----------+---------+----------------+-------------+---------------------+------------------+-------------------+--------+-----------------+-----------+---+\n",
            "|FECHA_ACTUALIZACION|ID_REGISTRO|ORIGEN|SECTOR|ENTIDAD_UM|SEXO|ENTIDAD_NAC|ENTIDAD_RES|MUNICIPIO_RES|TIPO_PACIENTE|FECHA_INGRESO|FECHA_SINTOMAS| FECHA_DEF|INTUBADO|NEUMONIA|EDAD|NACIONALIDAD|EMBARAZO|HABLA_LENGUA_INDIG|INDIGENA|DIABETES|EPOC|ASMA|INMUSUPR|HIPERTENSION|OTRA_COM|CARDIOVASCULAR|OBESIDAD|RENAL_CRONICA|TABAQUISMO|OTRO_CASO|TOMA_MUESTRA_LAB|RESULTADO_LAB|TOMA_MUESTRA_ANTIGENO|RESULTADO_ANTIGENO|CLASIFICACION_FINAL|MIGRANTE|PAIS_NACIONALIDAD|PAIS_ORIGEN|UCI|\n",
            "+-------------------+-----------+------+------+----------+----+-----------+-----------+-------------+-------------+-------------+--------------+----------+--------+--------+----+------------+--------+------------------+--------+--------+----+----+--------+------------+--------+--------------+--------+-------------+----------+---------+----------------+-------------+---------------------+------------------+-------------------+--------+-----------------+-----------+---+\n",
            "|         2021-11-14|     z2eace|     1|     3|        15|   1|         15|         15|          106|            2|   2020-09-23|    2020-09-20|9999-99-99|       2|       2|   7|           1|       2|                 2|       2|       2|   2|   2|       2|           2|       2|             2|       1|            2|         2|        2|               1|            4|                    2|                97|                  6|      99|           México|         97|  2|\n",
            "|         2021-11-14|     z38de4|     1|    12|         7|   1|          7|          7|          101|            1|   2020-05-23|    2020-05-20|9999-99-99|      97|       2|   7|           1|       2|                 2|       2|       2|   2|   2|       2|           2|       2|             2|       2|            2|         2|        2|               2|           97|                    2|                97|                  6|      99|           México|         97| 97|\n",
            "|         2021-11-14|     z579ac|     1|    12|        15|   2|         15|         15|           60|            1|   2020-10-14|    2020-10-10|9999-99-99|      97|       2|  33|           1|      97|                 2|       2|       2|   2|   2|       2|           2|       2|             2|       2|            2|         2|        2|               1|            4|                    2|                97|                  6|      99|           México|         97| 97|\n",
            "|         2021-11-14|     z2669f|     2|    12|        14|   2|         14|         14|           39|            1|   2020-06-18|    2020-06-16|9999-99-99|      97|       2|  43|           1|      97|                 2|       2|       2|   2|   1|       2|           2|       2|             2|       2|            2|         1|        1|               1|            2|                    2|                97|                  7|      99|           México|         97| 97|\n",
            "|         2021-11-14|     z54912|     1|    12|        31|   1|         31|         31|           79|            1|   2020-06-12|    2020-06-10|9999-99-99|      97|       2|  56|           1|       2|                 2|       2|       1|   2|   2|       2|           2|       2|             2|       2|            2|         2|        2|               1|            1|                    2|                97|                  3|      99|           México|         97| 97|\n",
            "|         2021-11-14|     z35a05|     1|    12|        31|   1|         31|         31|          102|            1|   2020-06-18|    2020-06-17|9999-99-99|      97|       2|  40|           1|       2|                 1|       1|       2|   2|   2|       2|           2|       2|             2|       1|            2|         2|        2|               1|            2|                    2|                97|                  7|      99|           México|         97| 97|\n",
            "|         2021-11-14|     z3f33c|     1|    12|         7|   1|          7|          7|          101|            1|   2020-03-29|    2020-03-27|9999-99-99|      97|       2|  67|           1|       2|                 2|       2|       2|   2|   2|       2|           2|       2|             2|       2|            2|         2|        2|               2|           97|                    2|                97|                  6|      99|           México|         97| 97|\n",
            "|         2021-11-14|     z552ac|     1|    12|         1|   1|          9|          1|            1|            1|   2020-06-02|    2020-05-30|9999-99-99|      97|       2|  58|           1|       2|                 2|       2|       1|   2|   2|       2|           2|       2|             2|       2|            2|         2|        2|               1|            1|                    2|                97|                  3|      99|           México|         97| 97|\n",
            "|         2021-11-14|     z59bbc|     1|    12|        31|   1|         31|         31|           89|            1|   2020-10-16|    2020-10-15|9999-99-99|      97|       2|  32|           1|       2|                 2|       2|       2|   2|   2|       2|           2|       2|             2|       2|            2|         2|        2|               1|            2|                    2|                97|                  7|      99|           México|         97| 97|\n",
            "|         2021-11-14|     z59345|     1|    12|        31|   2|         31|         31|           89|            1|   2020-07-01|    2020-06-30|9999-99-99|      97|       2|  37|           1|      97|                 2|       2|       2|   2|   2|       2|           2|       2|             2|       2|            2|         2|        2|               1|            1|                    2|                97|                  3|      99|           México|         97| 97|\n",
            "|         2021-11-14|     zzf571|     1|     6|        24|   1|         28|         24|           28|            1|   2020-06-16|    2020-06-16|9999-99-99|      97|       2|  64|           1|       2|                 2|       2|       2|   2|   2|       2|           2|       2|             2|       2|            2|         2|        2|               1|            2|                    2|                97|                  7|      99|           México|         97| 97|\n",
            "|         2021-11-14|     z12d63|     2|    12|         9|   2|          9|          9|           17|            1|   2020-07-06|    2020-07-01|9999-99-99|      97|       2|  62|           1|      97|                99|      99|       2|   2|   2|       2|           1|       2|             2|       2|            2|         2|        2|               2|           97|                    2|                97|                  6|      99|           México|         97| 97|\n",
            "|         2021-11-14|     z4887b|     2|    12|         8|   1|         10|          8|           37|            1|   2020-08-07|    2020-08-05|9999-99-99|      97|       2|  71|           1|       2|                 2|       2|       2|   2|   2|       2|           1|       2|             2|       2|            2|         2|        1|               1|            1|                    2|                97|                  3|      99|           México|         97| 97|\n",
            "|         2021-11-14|     z13788|     1|    12|         9|   1|          9|          9|            4|            1|   2020-09-23|    2020-09-23|9999-99-99|      97|       2|  67|           1|       2|                 2|       2|       1|   2|   2|       2|           2|       2|             2|       2|            2|         2|        1|               1|            1|                    2|                97|                  3|      99|           México|         97| 97|\n",
            "|         2021-11-14|     z3d8f0|     1|    12|        27|   2|         27|         27|            1|            1|   2020-06-01|    2020-05-26|9999-99-99|      97|       2|  15|           1|      97|                 2|       2|       2|   2|   2|       2|           2|       2|             2|       2|            2|         2|        1|               2|           97|                    2|                97|                  6|      99|           México|         97| 97|\n",
            "|         2021-11-14|     z4e532|     2|    12|         7|   2|          7|          7|           56|            1|   2020-08-25|    2020-08-19|9999-99-99|      97|      99|  33|           1|      97|                 2|       2|       2|   2|   2|       2|           2|       2|             2|       2|            2|         2|        2|               2|           97|                    2|                97|                  6|      99|           México|         97| 97|\n",
            "|         2021-11-14|     z4e838|     1|    12|         9|   2|         15|         15|           95|            2|   2020-02-18|    2020-02-18|2020-05-11|       1|       1|  60|           1|      97|                 2|       2|       2|   2|   2|       2|           2|       2|             2|       2|            2|         1|       99|               1|            2|                    2|                97|                  7|      99|           México|         97|  2|\n",
            "|         2021-11-14|     z2b144|     2|    12|         9|   1|         15|          9|            2|            1|   2020-06-15|    2020-06-12|9999-99-99|      97|       2|  13|           1|       2|                99|       2|       2|   2|   2|       2|           2|       2|             2|       2|            2|         2|        1|               1|            4|                    2|                97|                  5|      99|           México|         97| 97|\n",
            "|         2021-11-14|     zz7202|     1|    12|        16|   2|         16|         16|          112|            1|   2021-01-13|    2021-01-13|9999-99-99|      97|       2|  41|           1|      97|                 2|       2|       2|   2|   2|       2|           2|       2|             2|       2|            2|         1|        1|               1|            2|                    2|                97|                  7|      99|           México|         97| 97|\n",
            "|         2021-11-14|     z58ed3|     2|    12|        18|   1|         18|         18|           17|            1|   2020-07-03|    2020-06-30|9999-99-99|      97|       2|  46|           1|       2|                 2|       2|       2|   2|   2|       2|           2|       2|             2|       2|            2|         2|        2|               1|            2|                    2|                97|                  7|      99|           México|         97| 97|\n",
            "+-------------------+-----------+------+------+----------+----+-----------+-----------+-------------+-------------+-------------+--------------+----------+--------+--------+----+------------+--------+------------------+--------+--------+----+----+--------+------------+--------+--------------+--------+-------------+----------+---------+----------------+-------------+---------------------+------------------+-------------------+--------+-----------------+-----------+---+\n",
            "only showing top 20 rows\n",
            "\n"
          ]
        }
      ]
    },
    {
      "cell_type": "code",
      "metadata": {
        "id": "nWxK1JUmia1c",
        "colab": {
          "base_uri": "https://localhost:8080/"
        },
        "outputId": "a51594f4-2245-4299-f129-f87b472367ae"
      },
      "source": [
        "# Print our schema\n",
        "df.printSchema()"
      ],
      "execution_count": null,
      "outputs": [
        {
          "output_type": "stream",
          "name": "stdout",
          "text": [
            "root\n",
            " |-- FECHA_ACTUALIZACION: string (nullable = true)\n",
            " |-- ID_REGISTRO: string (nullable = true)\n",
            " |-- ORIGEN: integer (nullable = true)\n",
            " |-- SECTOR: integer (nullable = true)\n",
            " |-- ENTIDAD_UM: integer (nullable = true)\n",
            " |-- SEXO: integer (nullable = true)\n",
            " |-- ENTIDAD_NAC: integer (nullable = true)\n",
            " |-- ENTIDAD_RES: integer (nullable = true)\n",
            " |-- MUNICIPIO_RES: integer (nullable = true)\n",
            " |-- TIPO_PACIENTE: integer (nullable = true)\n",
            " |-- FECHA_INGRESO: string (nullable = true)\n",
            " |-- FECHA_SINTOMAS: string (nullable = true)\n",
            " |-- FECHA_DEF: string (nullable = true)\n",
            " |-- INTUBADO: integer (nullable = true)\n",
            " |-- NEUMONIA: integer (nullable = true)\n",
            " |-- EDAD: integer (nullable = true)\n",
            " |-- NACIONALIDAD: integer (nullable = true)\n",
            " |-- EMBARAZO: integer (nullable = true)\n",
            " |-- HABLA_LENGUA_INDIG: integer (nullable = true)\n",
            " |-- INDIGENA: integer (nullable = true)\n",
            " |-- DIABETES: integer (nullable = true)\n",
            " |-- EPOC: integer (nullable = true)\n",
            " |-- ASMA: integer (nullable = true)\n",
            " |-- INMUSUPR: integer (nullable = true)\n",
            " |-- HIPERTENSION: integer (nullable = true)\n",
            " |-- OTRA_COM: integer (nullable = true)\n",
            " |-- CARDIOVASCULAR: integer (nullable = true)\n",
            " |-- OBESIDAD: integer (nullable = true)\n",
            " |-- RENAL_CRONICA: integer (nullable = true)\n",
            " |-- TABAQUISMO: integer (nullable = true)\n",
            " |-- OTRO_CASO: integer (nullable = true)\n",
            " |-- TOMA_MUESTRA_LAB: integer (nullable = true)\n",
            " |-- RESULTADO_LAB: integer (nullable = true)\n",
            " |-- TOMA_MUESTRA_ANTIGENO: integer (nullable = true)\n",
            " |-- RESULTADO_ANTIGENO: integer (nullable = true)\n",
            " |-- CLASIFICACION_FINAL: integer (nullable = true)\n",
            " |-- MIGRANTE: integer (nullable = true)\n",
            " |-- PAIS_NACIONALIDAD: string (nullable = true)\n",
            " |-- PAIS_ORIGEN: string (nullable = true)\n",
            " |-- UCI: integer (nullable = true)\n",
            "\n"
          ]
        }
      ]
    },
    {
      "cell_type": "code",
      "metadata": {
        "id": "B0TESUDRY-90",
        "colab": {
          "base_uri": "https://localhost:8080/"
        },
        "outputId": "bdb2d6d4-55aa-44ad-9ce6-59907942f19a"
      },
      "source": [
        "# Create the ID_REGISTRO_table DataFrame\n",
        "\n",
        "ID_REGISTRO_df = df.select(['ID_REGISTRO']).drop_duplicates(['ID_REGISTRO'])\n",
        "ID_REGISTRO_df.show()"
      ],
      "execution_count": 9,
      "outputs": [
        {
          "output_type": "stream",
          "name": "stdout",
          "text": [
            "+-----------+\n",
            "|ID_REGISTRO|\n",
            "+-----------+\n",
            "|     00017b|\n",
            "|     0001d2|\n",
            "|     000341|\n",
            "|     0004a0|\n",
            "|     0004d2|\n",
            "|     0004dc|\n",
            "|     0004fd|\n",
            "|     000684|\n",
            "|     0007d2|\n",
            "|     00086f|\n",
            "|     000a1f|\n",
            "|     000ac7|\n",
            "|     000cbf|\n",
            "|     000dc8|\n",
            "|     0012bf|\n",
            "|     001427|\n",
            "|     00162a|\n",
            "|     00185e|\n",
            "|     0018e9|\n",
            "|     00197e|\n",
            "+-----------+\n",
            "only showing top 20 rows\n",
            "\n"
          ]
        }
      ]
    },
    {
      "cell_type": "code",
      "metadata": {
        "id": "4FwXA6UvY-96",
        "colab": {
          "base_uri": "https://localhost:8080/"
        },
        "outputId": "79072a4c-5260-45ea-aeee-d3f78c803fb6"
      },
      "source": [
        "# Create the enfermedad_table DataFrame and drop duplicates. \n",
        "enfermedades_df = df.select(['ID_REGISTRO', 'NEUMONIA', 'DIABETES', 'EPOC', 'ASMA', 'INMUSUPR', 'HIPERTENSION', 'CARDIOVASCULAR','OBESIDAD', 'RENAL_CRONICA', 'TABAQUISMO'])\n",
        "enfermedades_df.show()"
      ],
      "execution_count": 11,
      "outputs": [
        {
          "output_type": "stream",
          "name": "stdout",
          "text": [
            "+-----------+--------+--------+----+----+--------+------------+--------------+--------+-------------+----------+\n",
            "|ID_REGISTRO|NEUMONIA|DIABETES|EPOC|ASMA|INMUSUPR|HIPERTENSION|CARDIOVASCULAR|OBESIDAD|RENAL_CRONICA|TABAQUISMO|\n",
            "+-----------+--------+--------+----+----+--------+------------+--------------+--------+-------------+----------+\n",
            "|     z2eace|       2|       2|   2|   2|       2|           2|             2|       1|            2|         2|\n",
            "|     z38de4|       2|       2|   2|   2|       2|           2|             2|       2|            2|         2|\n",
            "|     z579ac|       2|       2|   2|   2|       2|           2|             2|       2|            2|         2|\n",
            "|     z2669f|       2|       2|   2|   1|       2|           2|             2|       2|            2|         1|\n",
            "|     z54912|       2|       1|   2|   2|       2|           2|             2|       2|            2|         2|\n",
            "|     z35a05|       2|       2|   2|   2|       2|           2|             2|       1|            2|         2|\n",
            "|     z3f33c|       2|       2|   2|   2|       2|           2|             2|       2|            2|         2|\n",
            "|     z552ac|       2|       1|   2|   2|       2|           2|             2|       2|            2|         2|\n",
            "|     z59bbc|       2|       2|   2|   2|       2|           2|             2|       2|            2|         2|\n",
            "|     z59345|       2|       2|   2|   2|       2|           2|             2|       2|            2|         2|\n",
            "|     zzf571|       2|       2|   2|   2|       2|           2|             2|       2|            2|         2|\n",
            "|     z12d63|       2|       2|   2|   2|       2|           1|             2|       2|            2|         2|\n",
            "|     z4887b|       2|       2|   2|   2|       2|           1|             2|       2|            2|         2|\n",
            "|     z13788|       2|       1|   2|   2|       2|           2|             2|       2|            2|         2|\n",
            "|     z3d8f0|       2|       2|   2|   2|       2|           2|             2|       2|            2|         2|\n",
            "|     z4e532|      99|       2|   2|   2|       2|           2|             2|       2|            2|         2|\n",
            "|     z4e838|       1|       2|   2|   2|       2|           2|             2|       2|            2|         1|\n",
            "|     z2b144|       2|       2|   2|   2|       2|           2|             2|       2|            2|         2|\n",
            "|     zz7202|       2|       2|   2|   2|       2|           2|             2|       2|            2|         1|\n",
            "|     z58ed3|       2|       2|   2|   2|       2|           2|             2|       2|            2|         2|\n",
            "+-----------+--------+--------+----+----+--------+------------+--------------+--------+-------------+----------+\n",
            "only showing top 20 rows\n",
            "\n"
          ]
        }
      ]
    },
    {
      "cell_type": "code",
      "metadata": {
        "id": "MkqyCuNQY-9-",
        "colab": {
          "base_uri": "https://localhost:8080/"
        },
        "outputId": "384268ab-98ef-465f-fcc3-7c778594ce66"
      },
      "source": [
        "# Create the UCI_table DataFrame. \n",
        "\n",
        "uci_df = df.select(['ID_REGISTRO', 'UCI'])\n",
        "uci_df.show()"
      ],
      "execution_count": 12,
      "outputs": [
        {
          "output_type": "stream",
          "name": "stdout",
          "text": [
            "+-----------+---+\n",
            "|ID_REGISTRO|UCI|\n",
            "+-----------+---+\n",
            "|     z2eace|  2|\n",
            "|     z38de4| 97|\n",
            "|     z579ac| 97|\n",
            "|     z2669f| 97|\n",
            "|     z54912| 97|\n",
            "|     z35a05| 97|\n",
            "|     z3f33c| 97|\n",
            "|     z552ac| 97|\n",
            "|     z59bbc| 97|\n",
            "|     z59345| 97|\n",
            "|     zzf571| 97|\n",
            "|     z12d63| 97|\n",
            "|     z4887b| 97|\n",
            "|     z13788| 97|\n",
            "|     z3d8f0| 97|\n",
            "|     z4e532| 97|\n",
            "|     z4e838|  2|\n",
            "|     z2b144| 97|\n",
            "|     zz7202| 97|\n",
            "|     z58ed3| 97|\n",
            "+-----------+---+\n",
            "only showing top 20 rows\n",
            "\n"
          ]
        }
      ]
    },
    {
      "cell_type": "markdown",
      "metadata": {
        "id": "jITZhLkmY--J"
      },
      "source": [
        "### Connect to the AWS RDS instance and write each DataFrame to its table. "
      ]
    },
    {
      "cell_type": "code",
      "metadata": {
        "id": "7jiUvs1aY--L"
      },
      "source": [
        "# Configure settings for RDS\n",
        "mode = \"append\"\n",
        "jdbc_url=\"jdbc:postgresql://equipo-7.cyyy0i0rexuu.us-west-1.rds.amazonaws.com:5432/postgres\"\n",
        "config = {\"user\":\"postgres\", \n",
        "          \"password\": \"postgres2021!\", \n",
        "          \"driver\":\"org.postgresql.Driver\"}"
      ],
      "execution_count": 19,
      "outputs": []
    },
    {
      "cell_type": "code",
      "metadata": {
        "id": "T2zgZ-aKY--Q"
      },
      "source": [
        "# Write review_id_df to table in RDS\n",
        "# Leapt time 16 min\n",
        "ID_REGISTRO_df.write.jdbc(url=jdbc_url, table='id_registro_table', mode=mode, properties=config)"
      ],
      "execution_count": 20,
      "outputs": []
    },
    {
      "cell_type": "code",
      "metadata": {
        "id": "1m3yzn-LY--U"
      },
      "source": [
        "# Write products_df to table in RDS\n",
        "# about 3 min\n",
        "products_df.write.jdbc(url=jdbc_url, table='products_table', mode=mode, properties=config)"
      ],
      "execution_count": null,
      "outputs": []
    },
    {
      "cell_type": "code",
      "metadata": {
        "id": "KbXri15fY--Z"
      },
      "source": [
        "# Write customers_df to table in RDS\n",
        "# 7 min\n",
        "customers_df.write.jdbc(url=jdbc_url, table='customers_table', mode=mode, properties=config)"
      ],
      "execution_count": null,
      "outputs": []
    },
    {
      "cell_type": "code",
      "metadata": {
        "id": "XdQknSHLY--e"
      },
      "source": [
        "# Write vine_df to table in RDS\n",
        "# 16 minutes\n",
        "vine_df.write.jdbc(url=jdbc_url, table='vine_table', mode=mode, properties=config)"
      ],
      "execution_count": null,
      "outputs": []
    },
    {
      "cell_type": "code",
      "metadata": {
        "id": "Exuo6ebUsCqW"
      },
      "source": [
        ""
      ],
      "execution_count": null,
      "outputs": []
    }
  ]
}